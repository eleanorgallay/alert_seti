{
 "cells": [
  {
   "cell_type": "markdown",
   "id": "6fc7a82d",
   "metadata": {},
   "source": [
    "### Eleanor Gallay\n",
    "### June 21, 2024"
   ]
  },
  {
   "cell_type": "markdown",
   "id": "ee24c522",
   "metadata": {},
   "source": [
    "This notebook is my first attempt at using the Lasair API to plot a light curve. I used some code from their example notebooks and plotted the light curve for an arbitrary star that passed my Mercury Transit Zone Stars v1 filter. "
   ]
  },
  {
   "cell_type": "code",
   "execution_count": 1,
   "id": "256c2e03",
   "metadata": {},
   "outputs": [],
   "source": [
    "import settings\n",
    "from astropy.time import Time\n",
    "import matplotlib.pyplot as plt\n",
    "\n",
    "from lasairmod import LasairError, lasair_client as lasair"
   ]
  },
  {
   "cell_type": "code",
   "execution_count": 14,
   "id": "0251e2eb",
   "metadata": {},
   "outputs": [],
   "source": [
    "#making an SQL query\n",
    "selected = \"\"\"\n",
    "objects.objectId,\n",
    "objects.ramean,\n",
    "objects.decmean,\n",
    "objects.jdmin - 2400000.5 AS mjdmin,\n",
    "objects.jdmax - 2400000.5 AS mjdmax,\n",
    "objects.magrmin,\n",
    "objects.rmag,\n",
    "sherlock_classifications.classification,\n",
    "objects.sgscore1\n",
    "\"\"\"\n",
    "\n",
    "tables = 'objects,sherlock_classifications,areas:158'\n",
    "\n",
    "\n",
    "# here I just picked an object that passed my Mercury Transit Zone Stars v1 filter \n",
    "conditions = \"\"\"\n",
    "sherlock_classifications.classification in ('VS', 'BS', 'ORPHAN')\n",
    "AND objects.objectId = 'ZTF19abtnyif'  \n",
    "\"\"\"\n",
    "\n",
    "\n",
    "L = lasair(settings.API_TOKEN, endpoint = \"https://lasair-ztf.lsst.ac.uk/api\")\n",
    "try:\n",
    "    results = L.query(selected, tables, conditions, limit = 20)\n",
    "except LasairError as e:\n",
    "    print(e)\n"
   ]
  },
  {
   "cell_type": "code",
   "execution_count": 15,
   "id": "5567d995",
   "metadata": {},
   "outputs": [
    {
     "name": "stdout",
     "output_type": "stream",
     "text": [
      "ZTF19abtnyif 294.79920 -27.56464 60459.43097 60482.39841 15.42 15.42 VS\n"
     ]
    }
   ],
   "source": [
    "# Did we get anything - just crudely print out the results if so.\n",
    "for row in results:\n",
    "    try:\n",
    "        print(row['objectId'],\n",
    "              \"%.5f\" % row['ramean'],\n",
    "              \"%.5f\" % row['decmean'],\n",
    "              \"%.5f\" % row['mjdmin'],\n",
    "              \"%.5f\" % row['mjdmax'],\n",
    "              \"%.2f\" % row['magrmin'],\n",
    "              \"%.2f\" % row['rmag'],\n",
    "              row['classification'])\n",
    "    except:\n",
    "        print(row['objectId'],\n",
    "              row['ramean'],\n",
    "              row['decmean'],\n",
    "              row['mjdmin'],\n",
    "              row['mjdmax'],\n",
    "              row['magrmin'],\n",
    "              row['rmag'],\n",
    "              row['classification'])\n",
    "            "
   ]
  },
  {
   "cell_type": "code",
   "execution_count": 24,
   "id": "48ca97c8",
   "metadata": {},
   "outputs": [
    {
     "data": {
      "image/png": "[encoded data removed]",
      "text/plain": [
       "<Figure size 432x288 with 1 Axes>"
      ]
     },
     "metadata": {
      "needs_background": "light"
     },
     "output_type": "display_data"
    }
   ],
   "source": [
    "objectList = [row['objectId'] for row in results]\n",
    "response = L.objects(objectList)\n",
    "\n",
    "# create an dictionary of lightcurves\n",
    "\n",
    "lcsDict = {}\n",
    "for obj in response:\n",
    "    lcsDict[obj['objectId']] = {'candidates': obj['candidates']}\n",
    "\n",
    "cols = {1:'seagreen',2:'hotpink'}         # 1: g filter, 2: r filter\n",
    "\n",
    "now = Time.now().jd\n",
    "\n",
    "for obj in response:\n",
    "        plt.figure()\n",
    "        plt.subplot(111)\n",
    "        for i in lcsDict[obj['objectId']]['candidates']:\n",
    "            if 'isdiffpos' in i:\n",
    "                if i['isdiffpos']=='t':        # 't' means positive difference magnitude, 'f' means negative\n",
    "                    plt.errorbar(now - i['jd'],i['magpsf'],i['sigmapsf'],fmt='o',color=cols[i['fid']])\n",
    "                else:\n",
    "                    plt.errorbar(now - i['jd'], i['magpsf'],i['sigmapsf'],fmt='+',color=cols[i['fid']])\n",
    "\n",
    "        plt.gca().invert_yaxis()\n",
    "        plt.gca().invert_xaxis()\n",
    "        plt.ylabel('Magnitude')\n",
    "        plt.xlabel('Days ago')\n",
    "        plt.title(obj['objectId'])\n",
    "        plt.legend([\"g filter\", \"r filter\"])\n"
   ]
  }
 ],
 "metadata": {
  "kernelspec": {
   "display_name": "Python 3 (ipykernel)",
   "language": "python",
   "name": "python3"
  },
  "language_info": {
   "codemirror_mode": {
    "name": "ipython",
    "version": 3
   },
   "file_extension": ".py",
   "mimetype": "text/x-python",
   "name": "python",
   "nbconvert_exporter": "python",
   "pygments_lexer": "ipython3",
   "version": "3.9.12"
  }
 },
 "nbformat": 4,
 "nbformat_minor": 5
}
